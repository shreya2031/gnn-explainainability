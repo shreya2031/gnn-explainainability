{
 "cells": [
  {
   "cell_type": "code",
   "execution_count": 1,
   "id": "initial_id",
   "metadata": {
    "collapsed": true,
    "ExecuteTime": {
     "end_time": "2024-03-13T19:30:19.641213Z",
     "start_time": "2024-03-13T19:30:02.979584Z"
    }
   },
   "outputs": [],
   "source": [
    "import argparse\n",
    "from typing import Dict\n",
    "\n",
    "import pandas as pd\n",
    "import torch\n",
    "import torch_frame\n",
    "from inferred_stypes import dataset2inferred_stypes\n",
    "from text_embedder import GloveTextEmbedding\n",
    "from torch_frame.config.text_embedder import TextEmbedderConfig\n",
    "from torch_frame.data import Dataset\n",
    "from torch_frame.gbdt import LightGBM\n",
    "from torch_frame.typing import Metric\n",
    "from torch_frame.utils import infer_df_stype\n",
    "\n",
    "from relbench.data import RelBenchDataset\n",
    "from relbench.data.task_base import TaskType\n",
    "from relbench.datasets import get_dataset\n",
    "\n",
    "import lightgbm as lgb\n",
    "import shap"
   ]
  },
  {
   "cell_type": "code",
   "outputs": [],
   "source": [
    "parser = argparse.ArgumentParser()\n",
    "parser.add_argument(\"--dataset\", type=str, default=\"rel-stackex\")\n",
    "parser.add_argument(\"--task\", type=str, default=\"rel-stackex-engage\")\n",
    "args = parser.parse_args(\"\")"
   ],
   "metadata": {
    "collapsed": false,
    "ExecuteTime": {
     "end_time": "2024-03-13T19:42:20.224438Z",
     "start_time": "2024-03-13T19:42:20.216830Z"
    }
   },
   "id": "d732937d2bc8a77d",
   "execution_count": 12
  },
  {
   "cell_type": "code",
   "outputs": [
    {
     "name": "stdout",
     "output_type": "stream",
     "text": [
      "Namespace(dataset='rel-stackex', task='rel-stackex-engage')\n"
     ]
    }
   ],
   "source": [
    "print(args)"
   ],
   "metadata": {
    "collapsed": false,
    "ExecuteTime": {
     "end_time": "2024-03-13T19:42:54.439229Z",
     "start_time": "2024-03-13T19:42:54.412466Z"
    }
   },
   "id": "3dd8e67211ed2d9f",
   "execution_count": 13
  },
  {
   "cell_type": "code",
   "outputs": [
    {
     "name": "stderr",
     "output_type": "stream",
     "text": [
      "Downloading file 'rel-stackex/db.zip' from 'https://relbench.stanford.edu/staging_data/rel-stackex/db.zip' to 'C:\\Users\\Shreya Reddy\\AppData\\Local\\relbench\\relbench\\Cache'.\n",
      "100%|########################################| 882M/882M [00:00<00:00, 386GB/s]\n"
     ]
    },
    {
     "name": "stdout",
     "output_type": "stream",
     "text": [
      "loading Database object from C:\\Users\\Shreya Reddy\\AppData\\Local\\relbench\\relbench\\Cache\\rel-stackex\\db...\n",
      "done in 29.56 seconds.\n"
     ]
    },
    {
     "name": "stderr",
     "output_type": "stream",
     "text": [
      "Downloading file 'rel-stackex/tasks/rel-stackex-engage.zip' from 'https://relbench.stanford.edu/staging_data/rel-stackex/tasks/rel-stackex-engage.zip' to 'C:\\Users\\Shreya Reddy\\AppData\\Local\\relbench\\relbench\\Cache'.\n",
      "100%|###############################################| 904k/904k [00:00<?, ?B/s]\n"
     ]
    }
   ],
   "source": [
    "device = torch.device(\"cuda\" if torch.cuda.is_available() else \"cpu\")\n",
    "\n",
    "# TODO: remove process=True once correct data/task is uploaded.\n",
    "dataset: RelBenchDataset = get_dataset(name=\"rel-stackex\")\n",
    "task = dataset.get_task(\"rel-stackex-engage\")"
   ],
   "metadata": {
    "collapsed": false,
    "ExecuteTime": {
     "end_time": "2024-03-13T19:32:05.055630Z",
     "start_time": "2024-03-13T19:30:39.700360Z"
    }
   },
   "id": "f7e29a6b7ec17296",
   "execution_count": 2
  },
  {
   "cell_type": "code",
   "outputs": [],
   "source": [
    "train_table = task.train_table\n",
    "val_table = task.val_table\n",
    "test_table = task.test_table"
   ],
   "metadata": {
    "collapsed": false,
    "ExecuteTime": {
     "end_time": "2024-03-13T19:34:09.206585Z",
     "start_time": "2024-03-13T19:34:09.191031Z"
    }
   },
   "id": "6bf55f4a1ffaa106",
   "execution_count": 7
  },
  {
   "cell_type": "code",
   "outputs": [],
   "source": [
    "dfs: Dict[str, pd.DataFrame] = {}\n",
    "entity_table = dataset.db.table_dict[task.entity_table]\n",
    "entity_df = entity_table.df\n",
    "\n",
    "col_to_stype = dataset2inferred_stypes[args.dataset][task.entity_table]\n",
    "\n",
    "\n"
   ],
   "metadata": {
    "collapsed": false,
    "ExecuteTime": {
     "end_time": "2024-03-13T20:18:45.766917Z",
     "start_time": "2024-03-13T20:18:45.341330Z"
    }
   },
   "id": "8dd1e0772369804b",
   "execution_count": 27
  },
  {
   "cell_type": "code",
   "outputs": [
    {
     "ename": "KeyError",
     "evalue": "'Id'",
     "output_type": "error",
     "traceback": [
      "\u001B[1;31m---------------------------------------------------------------------------\u001B[0m",
      "\u001B[1;31mKeyError\u001B[0m                                  Traceback (most recent call last)",
      "Cell \u001B[1;32mIn[29], line 2\u001B[0m\n\u001B[0;32m      1\u001B[0m \u001B[38;5;28;01mif\u001B[39;00m entity_table\u001B[38;5;241m.\u001B[39mpkey_col \u001B[38;5;129;01mis\u001B[39;00m \u001B[38;5;129;01mnot\u001B[39;00m \u001B[38;5;28;01mNone\u001B[39;00m:\n\u001B[1;32m----> 2\u001B[0m     \u001B[38;5;28;01mdel\u001B[39;00m col_to_stype[entity_table\u001B[38;5;241m.\u001B[39mpkey_col]\n\u001B[0;32m      3\u001B[0m \u001B[38;5;28;01mfor\u001B[39;00m fkey_col \u001B[38;5;129;01min\u001B[39;00m entity_table\u001B[38;5;241m.\u001B[39mfkey_col_to_pkey_table\u001B[38;5;241m.\u001B[39mkeys():\n\u001B[0;32m      4\u001B[0m     \u001B[38;5;28;01mdel\u001B[39;00m col_to_stype[fkey_col]\n",
      "\u001B[1;31mKeyError\u001B[0m: 'Id'"
     ]
    }
   ],
   "source": [
    "if entity_table.pkey_col is not None:\n",
    "    del col_to_stype[entity_table.pkey_col]\n",
    "for fkey_col in entity_table.fkey_col_to_pkey_table.keys():\n",
    "    del col_to_stype[fkey_col]"
   ],
   "metadata": {
    "collapsed": false,
    "ExecuteTime": {
     "end_time": "2024-03-13T20:19:26.128482Z",
     "start_time": "2024-03-13T20:19:25.277685Z"
    }
   },
   "id": "c7607ab77038773c",
   "execution_count": 29
  },
  {
   "cell_type": "code",
   "outputs": [],
   "source": [],
   "metadata": {
    "collapsed": false
   },
   "id": "23cb75ddfc3dd936"
  },
  {
   "cell_type": "code",
   "outputs": [],
   "source": [
    "if task.task_type == TaskType.BINARY_CLASSIFICATION:\n",
    "    col_to_stype[task.target_col] = torch_frame.categorical\n",
    "elif task.task_type == TaskType.REGRESSION:\n",
    "    col_to_stype[task.target_col] = torch_frame.numerical"
   ],
   "metadata": {
    "collapsed": false,
    "ExecuteTime": {
     "end_time": "2024-03-13T20:19:29.185409Z",
     "start_time": "2024-03-13T20:19:29.162852Z"
    }
   },
   "id": "a37071b55943be81",
   "execution_count": 30
  },
  {
   "cell_type": "code",
   "outputs": [
    {
     "name": "stderr",
     "output_type": "stream",
     "text": [
      "Embedding raw data in mini-batch: 100%|██████████| 295/295 [00:07<00:00, 39.93it/s]\n"
     ]
    }
   ],
   "source": [
    "for split, table in [\n",
    "    (\"train\", train_table),\n",
    "    (\"val\", val_table),\n",
    "    (\"test\", test_table),\n",
    "]:\n",
    "    dfs[split] = table.df.merge(\n",
    "        entity_df,\n",
    "        how=\"left\",\n",
    "        left_on=list(table.fkey_col_to_pkey_table.keys())[0],\n",
    "        right_on=entity_table.pkey_col,\n",
    "    )\n",
    "\n",
    "train_dataset = Dataset(\n",
    "    df=dfs[\"train\"],\n",
    "    col_to_stype=col_to_stype,\n",
    "    target_col=task.target_col,\n",
    "    col_to_text_embedder_cfg=TextEmbedderConfig(\n",
    "        text_embedder=GloveTextEmbedding(device=device),\n",
    "        batch_size=256,\n",
    "    ),\n",
    ").materialize()\n"
   ],
   "metadata": {
    "collapsed": false,
    "ExecuteTime": {
     "end_time": "2024-03-13T20:20:11.325889Z",
     "start_time": "2024-03-13T20:19:56.961655Z"
    }
   },
   "id": "354066d3be018a89",
   "execution_count": 31
  },
  {
   "cell_type": "code",
   "outputs": [
    {
     "data": {
      "text/plain": "Dataset()"
     },
     "execution_count": 35,
     "metadata": {},
     "output_type": "execute_result"
    }
   ],
   "source": [
    "train_dataset"
   ],
   "metadata": {
    "collapsed": false,
    "ExecuteTime": {
     "end_time": "2024-03-13T20:27:47.017783Z",
     "start_time": "2024-03-13T20:27:46.949679Z"
    }
   },
   "id": "528e95349c7ad4ba",
   "execution_count": 35
  },
  {
   "cell_type": "code",
   "outputs": [
    {
     "data": {
      "text/plain": "       OwnerUserId  timestamp  contribution     Id  AccountId  \\\n20977        36668 2017-01-01             0  36668  4927354.0   \n25434        46098 2017-01-01             0  46098  5508171.0   \n72897        10216 2013-01-02             1  10216   193616.0   \n4158          6863 2017-01-01             0   6863   275523.0   \n49003         7600 2015-01-02             1   7600  1313419.0   \n...            ...        ...           ...    ...        ...   \n8410         13674 2017-01-01             0  13674  2212185.0   \n50379         9849 2015-01-02             1   9849  1681691.0   \n47733         5477 2015-01-02             0   5477  1049077.0   \n24484        43994 2017-01-01             0  43994  5635841.0   \n21665        38033 2017-01-01             0  38033  5068669.0   \n\n                  DisplayName           Location  ProfileImageUrl  \\\n20977                     Isa               None              NaN   \n25434       Christopher Krapu               None              NaN   \n72897           JesseBuesking  San Francisco, CA              NaN   \n4158            Michael Burge        Portland,OR              NaN   \n49003                     q9f             Berlin              NaN   \n...                       ...                ...              ...   \n8410                     robb               None              NaN   \n50379                    Emma               None              NaN   \n47733                    Gray           Ames, IA              NaN   \n24484  Jean-charles Wijnandts               None              NaN   \n21665        startle_response               None              NaN   \n\n                         WebsiteUrl  \\\n20977                          None   \n25434                          None   \n72897  http://www.jessebuesking.com   \n4158                     http://N/A   \n49003                https://q9f.cc   \n...                             ...   \n8410                           None   \n50379                          None   \n47733           http://gray.clhn.co   \n24484                          None   \n21665                          None   \n\n                                                 AboutMe  \\\n20977                                               None   \n25434                                               None   \n72897                                               None   \n4158                                                None   \n49003  <p>Libre software and disrupting technologies....   \n...                                                  ...   \n8410                                                None   \n50379                                               None   \n47733  <p>I'm an assistant professor in the Econ depa...   \n24484                                               None   \n21665                                               None   \n\n                 CreationDate  \n20977 2014-08-22 14:07:49.403  \n25434 2015-02-19 19:20:23.770  \n72897 2012-08-11 23:18:48.953  \n4158  2012-02-15 10:05:30.173  \n49003 2012-03-25 09:44:44.020  \n...                       ...  \n8410  2013-01-07 00:06:36.937  \n50379 2012-07-23 12:13:41.520  \n47733 2011-11-24 19:34:01.703  \n24484 2015-01-16 11:19:39.223  \n21665 2014-09-22 20:20:21.703  \n\n[100 rows x 11 columns]",
      "text/html": "<div>\n<style scoped>\n    .dataframe tbody tr th:only-of-type {\n        vertical-align: middle;\n    }\n\n    .dataframe tbody tr th {\n        vertical-align: top;\n    }\n\n    .dataframe thead th {\n        text-align: right;\n    }\n</style>\n<table border=\"1\" class=\"dataframe\">\n  <thead>\n    <tr style=\"text-align: right;\">\n      <th></th>\n      <th>OwnerUserId</th>\n      <th>timestamp</th>\n      <th>contribution</th>\n      <th>Id</th>\n      <th>AccountId</th>\n      <th>DisplayName</th>\n      <th>Location</th>\n      <th>ProfileImageUrl</th>\n      <th>WebsiteUrl</th>\n      <th>AboutMe</th>\n      <th>CreationDate</th>\n    </tr>\n  </thead>\n  <tbody>\n    <tr>\n      <th>20977</th>\n      <td>36668</td>\n      <td>2017-01-01</td>\n      <td>0</td>\n      <td>36668</td>\n      <td>4927354.0</td>\n      <td>Isa</td>\n      <td>None</td>\n      <td>NaN</td>\n      <td>None</td>\n      <td>None</td>\n      <td>2014-08-22 14:07:49.403</td>\n    </tr>\n    <tr>\n      <th>25434</th>\n      <td>46098</td>\n      <td>2017-01-01</td>\n      <td>0</td>\n      <td>46098</td>\n      <td>5508171.0</td>\n      <td>Christopher Krapu</td>\n      <td>None</td>\n      <td>NaN</td>\n      <td>None</td>\n      <td>None</td>\n      <td>2015-02-19 19:20:23.770</td>\n    </tr>\n    <tr>\n      <th>72897</th>\n      <td>10216</td>\n      <td>2013-01-02</td>\n      <td>1</td>\n      <td>10216</td>\n      <td>193616.0</td>\n      <td>JesseBuesking</td>\n      <td>San Francisco, CA</td>\n      <td>NaN</td>\n      <td>http://www.jessebuesking.com</td>\n      <td>None</td>\n      <td>2012-08-11 23:18:48.953</td>\n    </tr>\n    <tr>\n      <th>4158</th>\n      <td>6863</td>\n      <td>2017-01-01</td>\n      <td>0</td>\n      <td>6863</td>\n      <td>275523.0</td>\n      <td>Michael Burge</td>\n      <td>Portland,OR</td>\n      <td>NaN</td>\n      <td>http://N/A</td>\n      <td>None</td>\n      <td>2012-02-15 10:05:30.173</td>\n    </tr>\n    <tr>\n      <th>49003</th>\n      <td>7600</td>\n      <td>2015-01-02</td>\n      <td>1</td>\n      <td>7600</td>\n      <td>1313419.0</td>\n      <td>q9f</td>\n      <td>Berlin</td>\n      <td>NaN</td>\n      <td>https://q9f.cc</td>\n      <td>&lt;p&gt;Libre software and disrupting technologies....</td>\n      <td>2012-03-25 09:44:44.020</td>\n    </tr>\n    <tr>\n      <th>...</th>\n      <td>...</td>\n      <td>...</td>\n      <td>...</td>\n      <td>...</td>\n      <td>...</td>\n      <td>...</td>\n      <td>...</td>\n      <td>...</td>\n      <td>...</td>\n      <td>...</td>\n      <td>...</td>\n    </tr>\n    <tr>\n      <th>8410</th>\n      <td>13674</td>\n      <td>2017-01-01</td>\n      <td>0</td>\n      <td>13674</td>\n      <td>2212185.0</td>\n      <td>robb</td>\n      <td>None</td>\n      <td>NaN</td>\n      <td>None</td>\n      <td>None</td>\n      <td>2013-01-07 00:06:36.937</td>\n    </tr>\n    <tr>\n      <th>50379</th>\n      <td>9849</td>\n      <td>2015-01-02</td>\n      <td>1</td>\n      <td>9849</td>\n      <td>1681691.0</td>\n      <td>Emma</td>\n      <td>None</td>\n      <td>NaN</td>\n      <td>None</td>\n      <td>None</td>\n      <td>2012-07-23 12:13:41.520</td>\n    </tr>\n    <tr>\n      <th>47733</th>\n      <td>5477</td>\n      <td>2015-01-02</td>\n      <td>0</td>\n      <td>5477</td>\n      <td>1049077.0</td>\n      <td>Gray</td>\n      <td>Ames, IA</td>\n      <td>NaN</td>\n      <td>http://gray.clhn.co</td>\n      <td>&lt;p&gt;I'm an assistant professor in the Econ depa...</td>\n      <td>2011-11-24 19:34:01.703</td>\n    </tr>\n    <tr>\n      <th>24484</th>\n      <td>43994</td>\n      <td>2017-01-01</td>\n      <td>0</td>\n      <td>43994</td>\n      <td>5635841.0</td>\n      <td>Jean-charles Wijnandts</td>\n      <td>None</td>\n      <td>NaN</td>\n      <td>None</td>\n      <td>None</td>\n      <td>2015-01-16 11:19:39.223</td>\n    </tr>\n    <tr>\n      <th>21665</th>\n      <td>38033</td>\n      <td>2017-01-01</td>\n      <td>0</td>\n      <td>38033</td>\n      <td>5068669.0</td>\n      <td>startle_response</td>\n      <td>None</td>\n      <td>NaN</td>\n      <td>None</td>\n      <td>None</td>\n      <td>2014-09-22 20:20:21.703</td>\n    </tr>\n  </tbody>\n</table>\n<p>100 rows × 11 columns</p>\n</div>"
     },
     "execution_count": 39,
     "metadata": {},
     "output_type": "execute_result"
    }
   ],
   "source": [
    "dfs['train'].sample(n=100)"
   ],
   "metadata": {
    "collapsed": false,
    "ExecuteTime": {
     "end_time": "2024-03-13T20:31:14.493241Z",
     "start_time": "2024-03-13T20:31:14.371444Z"
    }
   },
   "id": "3199cedf3e4c582f",
   "execution_count": 39
  },
  {
   "cell_type": "code",
   "outputs": [
    {
     "name": "stderr",
     "output_type": "stream",
     "text": [
      "Embedding raw data in mini-batch: 100%|██████████| 263/263 [00:11<00:00, 22.88it/s]\n",
      "Embedding raw data in mini-batch: 100%|██████████| 345/345 [00:09<00:00, 37.38it/s]\n"
     ]
    }
   ],
   "source": [
    "tf_train = train_dataset.tensor_frame\n",
    "tf_val = train_dataset.convert_to_tensor_frame(dfs[\"val\"])\n",
    "tf_test = train_dataset.convert_to_tensor_frame(dfs[\"test\"])\n",
    "\n",
    "if task.task_type == TaskType.BINARY_CLASSIFICATION:\n",
    "    tune_metric = Metric.ROCAUC\n",
    "else:\n",
    "    tune_metric = Metric.MAE"
   ],
   "metadata": {
    "collapsed": false,
    "ExecuteTime": {
     "end_time": "2024-03-13T20:26:41.529198Z",
     "start_time": "2024-03-13T20:26:19.808925Z"
    }
   },
   "id": "d0dbecdb9e4f353f",
   "execution_count": 34
  },
  {
   "cell_type": "code",
   "outputs": [
    {
     "data": {
      "text/plain": "TensorFrame(\n  num_cols=3,\n  num_rows=75493,\n  numerical (1): ['AccountId'],\n  timestamp (1): ['CreationDate'],\n  embedding (1): ['AboutMe'],\n  has_target=True,\n  device='cpu',\n)"
     },
     "execution_count": 43,
     "metadata": {},
     "output_type": "execute_result"
    }
   ],
   "source": [
    "tf_train"
   ],
   "metadata": {
    "collapsed": false,
    "ExecuteTime": {
     "end_time": "2024-03-13T21:02:30.782080Z",
     "start_time": "2024-03-13T21:02:30.757247Z"
    }
   },
   "id": "f33948d7e22861c2",
   "execution_count": 43
  },
  {
   "cell_type": "code",
   "outputs": [
    {
     "data": {
      "text/plain": "{<stype.numerical: 'numerical'>: tensor([[-1.0000e+00],\n         [ 3.0000e+00],\n         [ 5.4503e+04],\n         ...,\n         [ 1.5364e+06],\n         [ 2.2146e+06],\n         [ 2.7698e+06]]),\n <stype.timestamp: 'timestamp'>: tensor([[[2010,    6,   18,  ...,    6,   55,   26]],\n \n         [[2010,    6,   18,  ...,   15,   34,   50]],\n \n         [[2010,    6,   18,  ...,   19,    3,   57]],\n \n         ...,\n \n         [[2012,    6,    8,  ...,   20,    2,   45]],\n \n         [[2013,    0,    6,  ...,   16,   20,   54]],\n \n         [[2013,    4,   14,  ...,    6,   34,    5]]]),\n <stype.embedding: 'embedding'>: MultiEmbeddingTensor(num_rows=75493, num_cols=1, device='cpu')}"
     },
     "execution_count": 45,
     "metadata": {},
     "output_type": "execute_result"
    }
   ],
   "source": [
    "tf_train.feat_dict"
   ],
   "metadata": {
    "collapsed": false,
    "ExecuteTime": {
     "end_time": "2024-03-13T21:07:18.942305Z",
     "start_time": "2024-03-13T21:07:18.789016Z"
    }
   },
   "id": "7171328770079c01",
   "execution_count": 45
  },
  {
   "cell_type": "code",
   "outputs": [],
   "source": [],
   "metadata": {
    "collapsed": false
   },
   "id": "f6ca3cdda9138f5c"
  },
  {
   "cell_type": "code",
   "outputs": [
    {
     "name": "stderr",
     "output_type": "stream",
     "text": [
      "[I 2024-03-13 12:45:10,884] A new study created in memory with name: no-name-15a59651-6a69-4260-9eaa-d385bdb8023a\n",
      "[I 2024-03-13 12:45:41,972] Trial 0 finished with value: 0.5642725999129629 and parameters: {'max_depth': 5, 'learning_rate': 0.002200300912259004, 'num_leaves': 73, 'subsample': 0.9373589641920828, 'colsample_bytree': 0.28198902238055984, 'lambda_l1': 0.004453202991217154, 'lambda_l2': 3.1980979572940273, 'min_data_in_leaf': 35}. Best is trial 0 with value: 0.5642725999129629.\n",
      "[I 2024-03-13 12:45:43,543] Trial 1 finished with value: 0.5299275849982142 and parameters: {'max_depth': 3, 'learning_rate': 0.001172335449843462, 'num_leaves': 613, 'subsample': 0.961802247972868, 'colsample_bytree': 0.07704601100051792, 'lambda_l1': 4.839182299417388e-05, 'lambda_l2': 0.00031157660096039493, 'min_data_in_leaf': 83}. Best is trial 0 with value: 0.5642725999129629.\n",
      "[I 2024-03-13 12:46:40,310] Trial 2 finished with value: 0.589699992565635 and parameters: {'max_depth': 10, 'learning_rate': 0.005801069902200307, 'num_leaves': 793, 'subsample': 0.2763790492485418, 'colsample_bytree': 0.4849180246664212, 'lambda_l1': 0.06241569427078773, 'lambda_l2': 0.21137044969182434, 'min_data_in_leaf': 37}. Best is trial 2 with value: 0.589699992565635.\n",
      "[I 2024-03-13 12:49:08,329] Trial 3 finished with value: 0.589326749998931 and parameters: {'max_depth': 10, 'learning_rate': 0.003037806904518537, 'num_leaves': 473, 'subsample': 0.3239948620033155, 'colsample_bytree': 0.5819841140313026, 'lambda_l1': 9.1017097009982e-08, 'lambda_l2': 0.0013504520880047812, 'min_data_in_leaf': 75}. Best is trial 2 with value: 0.589699992565635.\n",
      "[I 2024-03-13 12:50:38,664] Trial 4 finished with value: 0.5881687419792141 and parameters: {'max_depth': 6, 'learning_rate': 0.00505269347564226, 'num_leaves': 331, 'subsample': 0.7399484882281567, 'colsample_bytree': 0.44700098858632203, 'lambda_l1': 0.055442038879992654, 'lambda_l2': 5.066421239568248, 'min_data_in_leaf': 47}. Best is trial 2 with value: 0.589699992565635.\n",
      "[I 2024-03-13 12:51:38,437] Trial 5 finished with value: 0.5919771367917079 and parameters: {'max_depth': 11, 'learning_rate': 0.005432264037545728, 'num_leaves': 423, 'subsample': 0.5527402929012076, 'colsample_bytree': 0.5164263247094765, 'lambda_l1': 1.17113437218833e-07, 'lambda_l2': 2.6277868408049425e-07, 'min_data_in_leaf': 70}. Best is trial 5 with value: 0.5919771367917079.\n",
      "[I 2024-03-13 12:52:20,645] Trial 6 finished with value: 0.5900203909467309 and parameters: {'max_depth': 5, 'learning_rate': 0.045818947146436646, 'num_leaves': 760, 'subsample': 0.8182199326903891, 'colsample_bytree': 0.7395023419735435, 'lambda_l1': 7.6514226312123e-06, 'lambda_l2': 0.7625240174067422, 'min_data_in_leaf': 33}. Best is trial 5 with value: 0.5919771367917079.\n",
      "[I 2024-03-13 12:55:02,485] Trial 7 finished with value: 0.5910474275726403 and parameters: {'max_depth': 9, 'learning_rate': 0.001411098564688551, 'num_leaves': 478, 'subsample': 0.6857222043719647, 'colsample_bytree': 0.8041831215161828, 'lambda_l1': 4.629531864523608e-07, 'lambda_l2': 9.923944273954367e-06, 'min_data_in_leaf': 10}. Best is trial 5 with value: 0.5919771367917079.\n"
     ]
    },
    {
     "name": "stdout",
     "output_type": "stream",
     "text": [
      "[2000]\tvalid_0's auc: 0.557784\n"
     ]
    },
    {
     "name": "stderr",
     "output_type": "stream",
     "text": [
      "[I 2024-03-13 12:56:00,560] Trial 8 finished with value: 0.5578893193725597 and parameters: {'max_depth': 3, 'learning_rate': 0.0034068472105257272, 'num_leaves': 230, 'subsample': 0.5513112072262933, 'colsample_bytree': 0.6971974868928147, 'lambda_l1': 5.3705040784213805e-06, 'lambda_l2': 0.024504869095132175, 'min_data_in_leaf': 10}. Best is trial 5 with value: 0.5919771367917079.\n",
      "[I 2024-03-13 12:56:02,588] Trial 9 finished with value: 0.5345749492178705 and parameters: {'max_depth': 3, 'learning_rate': 0.002440225719258562, 'num_leaves': 431, 'subsample': 0.6724321506913075, 'colsample_bytree': 0.1485046335503587, 'lambda_l1': 0.00025867084233681777, 'lambda_l2': 6.1245994537609425, 'min_data_in_leaf': 52}. Best is trial 5 with value: 0.5919771367917079.\n"
     ]
    }
   ],
   "source": [
    "model = LightGBM(task_type=train_dataset.task_type, metric=tune_metric)\n",
    "\n",
    "model.tune(tf_train=tf_train, tf_val=tf_val, num_trials=10)"
   ],
   "metadata": {
    "collapsed": false,
    "ExecuteTime": {
     "end_time": "2024-03-13T19:57:19.557180Z",
     "start_time": "2024-03-13T19:45:08.564947Z"
    }
   },
   "id": "4829f8442753c1c1",
   "execution_count": 16
  },
  {
   "cell_type": "code",
   "outputs": [],
   "source": [],
   "metadata": {
    "collapsed": false
   },
   "id": "bd284a6a5b88286f"
  },
  {
   "cell_type": "code",
   "outputs": [],
   "source": [],
   "metadata": {
    "collapsed": false
   },
   "id": "7948bf93da4b4f2a"
  },
  {
   "cell_type": "code",
   "outputs": [],
   "source": [
    "model_path = \"C:\\\\Users\\\\Shreya Reddy\\\\Downloads\\\\relbenchmain\\\\examples\\\\saved_model_lightgbm.lgb\"\n",
    "model = lgb.Booster(model_file=model_path)"
   ],
   "metadata": {
    "collapsed": false,
    "ExecuteTime": {
     "end_time": "2024-03-13T20:00:40.725071Z",
     "start_time": "2024-03-13T20:00:40.607385Z"
    }
   },
   "id": "87e0dfda9d795b76",
   "execution_count": 21
  },
  {
   "cell_type": "code",
   "outputs": [
    {
     "name": "stdout",
     "output_type": "stream",
     "text": [
      "Train: {'average_precision': 0.4287766703529981, 'accuracy': 0.8362894573006768, 'f1': 0.10461493878142433, 'roc_auc': 0.7010621087834334}\n",
      "Val: {'average_precision': 0.171850938701806, 'accuracy': 0.888272064295282, 'f1': 0.037687475964619924, 'roc_auc': 0.5919771367917079}\n",
      "Test: {'average_precision': 0.11700689525475483, 'accuracy': 0.917386223094641, 'f1': 0.030879808332224146, 'roc_auc': 0.5808125564969495}\n"
     ]
    }
   ],
   "source": [
    "pred = model.predict(tf_test=tf_train).numpy()\n",
    "print(f\"Train: {task.evaluate(pred, train_table)}\")\n",
    "\n",
    "pred = model.predict(tf_test=tf_val).numpy()\n",
    "print(f\"Val: {task.evaluate(pred, val_table)}\")\n",
    "\n",
    "pred = model.predict(tf_test=tf_test).numpy()\n",
    "print(f\"Test: {task.evaluate(pred)}\")"
   ],
   "metadata": {
    "collapsed": false,
    "ExecuteTime": {
     "end_time": "2024-03-13T19:59:23.989599Z",
     "start_time": "2024-03-13T19:59:10.516519Z"
    }
   },
   "id": "a791cd56f7fada63",
   "execution_count": 17
  },
  {
   "cell_type": "code",
   "outputs": [],
   "source": [
    "explainer = shap.TreeExplainer(model)\n"
   ],
   "metadata": {
    "collapsed": false,
    "ExecuteTime": {
     "end_time": "2024-03-13T20:01:58.146985Z",
     "start_time": "2024-03-13T20:01:49.897130Z"
    }
   },
   "id": "f7f1227876361d4a",
   "execution_count": 24
  },
  {
   "cell_type": "code",
   "outputs": [
    {
     "ename": "ValueError",
     "evalue": "pandas dtypes must be int, float or bool.\nFields with bad pandas dtypes: timestamp: datetime64[ns], DisplayName: object, Location: object, WebsiteUrl: object, AboutMe: object, CreationDate: datetime64[ns]",
     "output_type": "error",
     "traceback": [
      "\u001B[1;31m---------------------------------------------------------------------------\u001B[0m",
      "\u001B[1;31mValueError\u001B[0m                                Traceback (most recent call last)",
      "Cell \u001B[1;32mIn[41], line 2\u001B[0m\n\u001B[0;32m      1\u001B[0m \u001B[38;5;66;03m# Calculate SHAP values. This might take some time for large datasets.\u001B[39;00m\n\u001B[1;32m----> 2\u001B[0m shap_values \u001B[38;5;241m=\u001B[39m \u001B[43mexplainer\u001B[49m\u001B[38;5;241;43m.\u001B[39;49m\u001B[43mshap_values\u001B[49m\u001B[43m(\u001B[49m\u001B[43mdfs\u001B[49m\u001B[43m[\u001B[49m\u001B[38;5;124;43m'\u001B[39;49m\u001B[38;5;124;43mtrain\u001B[39;49m\u001B[38;5;124;43m'\u001B[39;49m\u001B[43m]\u001B[49m\u001B[38;5;241;43m.\u001B[39;49m\u001B[43msample\u001B[49m\u001B[43m(\u001B[49m\u001B[43mn\u001B[49m\u001B[38;5;241;43m=\u001B[39;49m\u001B[38;5;241;43m100\u001B[39;49m\u001B[43m)\u001B[49m\u001B[43m)\u001B[49m\n",
      "File \u001B[1;32m~\\Downloads\\relbenchmain\\venv\\lib\\site-packages\\shap\\explainers\\_tree.py:444\u001B[0m, in \u001B[0;36mTreeExplainer.shap_values\u001B[1;34m(self, X, y, tree_limit, approximate, check_additivity, from_call)\u001B[0m\n\u001B[0;32m    442\u001B[0m \u001B[38;5;28;01melif\u001B[39;00m \u001B[38;5;28mself\u001B[39m\u001B[38;5;241m.\u001B[39mmodel\u001B[38;5;241m.\u001B[39mmodel_type \u001B[38;5;241m==\u001B[39m \u001B[38;5;124m\"\u001B[39m\u001B[38;5;124mlightgbm\u001B[39m\u001B[38;5;124m\"\u001B[39m:\n\u001B[0;32m    443\u001B[0m     \u001B[38;5;28;01massert\u001B[39;00m \u001B[38;5;129;01mnot\u001B[39;00m approximate, \u001B[38;5;124m\"\u001B[39m\u001B[38;5;124mapproximate=True is not supported for LightGBM models!\u001B[39m\u001B[38;5;124m\"\u001B[39m\n\u001B[1;32m--> 444\u001B[0m     phi \u001B[38;5;241m=\u001B[39m \u001B[38;5;28;43mself\u001B[39;49m\u001B[38;5;241;43m.\u001B[39;49m\u001B[43mmodel\u001B[49m\u001B[38;5;241;43m.\u001B[39;49m\u001B[43moriginal_model\u001B[49m\u001B[38;5;241;43m.\u001B[39;49m\u001B[43mpredict\u001B[49m\u001B[43m(\u001B[49m\u001B[43mX\u001B[49m\u001B[43m,\u001B[49m\u001B[43m \u001B[49m\u001B[43mnum_iteration\u001B[49m\u001B[38;5;241;43m=\u001B[39;49m\u001B[43mtree_limit\u001B[49m\u001B[43m,\u001B[49m\u001B[43m \u001B[49m\u001B[43mpred_contrib\u001B[49m\u001B[38;5;241;43m=\u001B[39;49m\u001B[38;5;28;43;01mTrue\u001B[39;49;00m\u001B[43m)\u001B[49m\n\u001B[0;32m    445\u001B[0m     \u001B[38;5;66;03m# Note: the data must be joined on the last axis\u001B[39;00m\n\u001B[0;32m    446\u001B[0m     \u001B[38;5;28;01mif\u001B[39;00m \u001B[38;5;28mself\u001B[39m\u001B[38;5;241m.\u001B[39mmodel\u001B[38;5;241m.\u001B[39moriginal_model\u001B[38;5;241m.\u001B[39mparams[\u001B[38;5;124m'\u001B[39m\u001B[38;5;124mobjective\u001B[39m\u001B[38;5;124m'\u001B[39m] \u001B[38;5;241m==\u001B[39m \u001B[38;5;124m'\u001B[39m\u001B[38;5;124mbinary\u001B[39m\u001B[38;5;124m'\u001B[39m:\n",
      "File \u001B[1;32m~\\Downloads\\relbenchmain\\venv\\lib\\site-packages\\lightgbm\\basic.py:4453\u001B[0m, in \u001B[0;36mBooster.predict\u001B[1;34m(self, data, start_iteration, num_iteration, raw_score, pred_leaf, pred_contrib, data_has_header, validate_features, **kwargs)\u001B[0m\n\u001B[0;32m   4451\u001B[0m     \u001B[38;5;28;01melse\u001B[39;00m:\n\u001B[0;32m   4452\u001B[0m         num_iteration \u001B[38;5;241m=\u001B[39m \u001B[38;5;241m-\u001B[39m\u001B[38;5;241m1\u001B[39m\n\u001B[1;32m-> 4453\u001B[0m \u001B[38;5;28;01mreturn\u001B[39;00m \u001B[43mpredictor\u001B[49m\u001B[38;5;241;43m.\u001B[39;49m\u001B[43mpredict\u001B[49m\u001B[43m(\u001B[49m\n\u001B[0;32m   4454\u001B[0m \u001B[43m    \u001B[49m\u001B[43mdata\u001B[49m\u001B[38;5;241;43m=\u001B[39;49m\u001B[43mdata\u001B[49m\u001B[43m,\u001B[49m\n\u001B[0;32m   4455\u001B[0m \u001B[43m    \u001B[49m\u001B[43mstart_iteration\u001B[49m\u001B[38;5;241;43m=\u001B[39;49m\u001B[43mstart_iteration\u001B[49m\u001B[43m,\u001B[49m\n\u001B[0;32m   4456\u001B[0m \u001B[43m    \u001B[49m\u001B[43mnum_iteration\u001B[49m\u001B[38;5;241;43m=\u001B[39;49m\u001B[43mnum_iteration\u001B[49m\u001B[43m,\u001B[49m\n\u001B[0;32m   4457\u001B[0m \u001B[43m    \u001B[49m\u001B[43mraw_score\u001B[49m\u001B[38;5;241;43m=\u001B[39;49m\u001B[43mraw_score\u001B[49m\u001B[43m,\u001B[49m\n\u001B[0;32m   4458\u001B[0m \u001B[43m    \u001B[49m\u001B[43mpred_leaf\u001B[49m\u001B[38;5;241;43m=\u001B[39;49m\u001B[43mpred_leaf\u001B[49m\u001B[43m,\u001B[49m\n\u001B[0;32m   4459\u001B[0m \u001B[43m    \u001B[49m\u001B[43mpred_contrib\u001B[49m\u001B[38;5;241;43m=\u001B[39;49m\u001B[43mpred_contrib\u001B[49m\u001B[43m,\u001B[49m\n\u001B[0;32m   4460\u001B[0m \u001B[43m    \u001B[49m\u001B[43mdata_has_header\u001B[49m\u001B[38;5;241;43m=\u001B[39;49m\u001B[43mdata_has_header\u001B[49m\u001B[43m,\u001B[49m\n\u001B[0;32m   4461\u001B[0m \u001B[43m    \u001B[49m\u001B[43mvalidate_features\u001B[49m\u001B[38;5;241;43m=\u001B[39;49m\u001B[43mvalidate_features\u001B[49m\n\u001B[0;32m   4462\u001B[0m \u001B[43m\u001B[49m\u001B[43m)\u001B[49m\n",
      "File \u001B[1;32m~\\Downloads\\relbenchmain\\venv\\lib\\site-packages\\lightgbm\\basic.py:1116\u001B[0m, in \u001B[0;36m_InnerPredictor.predict\u001B[1;34m(self, data, start_iteration, num_iteration, raw_score, pred_leaf, pred_contrib, data_has_header, validate_features)\u001B[0m\n\u001B[0;32m   1107\u001B[0m     _safe_call(\n\u001B[0;32m   1108\u001B[0m         _LIB\u001B[38;5;241m.\u001B[39mLGBM_BoosterValidateFeatureNames(\n\u001B[0;32m   1109\u001B[0m             \u001B[38;5;28mself\u001B[39m\u001B[38;5;241m.\u001B[39m_handle,\n\u001B[1;32m   (...)\u001B[0m\n\u001B[0;32m   1112\u001B[0m         )\n\u001B[0;32m   1113\u001B[0m     )\n\u001B[0;32m   1115\u001B[0m \u001B[38;5;28;01mif\u001B[39;00m \u001B[38;5;28misinstance\u001B[39m(data, pd_DataFrame):\n\u001B[1;32m-> 1116\u001B[0m     data \u001B[38;5;241m=\u001B[39m \u001B[43m_data_from_pandas\u001B[49m\u001B[43m(\u001B[49m\n\u001B[0;32m   1117\u001B[0m \u001B[43m        \u001B[49m\u001B[43mdata\u001B[49m\u001B[38;5;241;43m=\u001B[39;49m\u001B[43mdata\u001B[49m\u001B[43m,\u001B[49m\n\u001B[0;32m   1118\u001B[0m \u001B[43m        \u001B[49m\u001B[43mfeature_name\u001B[49m\u001B[38;5;241;43m=\u001B[39;49m\u001B[38;5;124;43m\"\u001B[39;49m\u001B[38;5;124;43mauto\u001B[39;49m\u001B[38;5;124;43m\"\u001B[39;49m\u001B[43m,\u001B[49m\n\u001B[0;32m   1119\u001B[0m \u001B[43m        \u001B[49m\u001B[43mcategorical_feature\u001B[49m\u001B[38;5;241;43m=\u001B[39;49m\u001B[38;5;124;43m\"\u001B[39;49m\u001B[38;5;124;43mauto\u001B[39;49m\u001B[38;5;124;43m\"\u001B[39;49m\u001B[43m,\u001B[49m\n\u001B[0;32m   1120\u001B[0m \u001B[43m        \u001B[49m\u001B[43mpandas_categorical\u001B[49m\u001B[38;5;241;43m=\u001B[39;49m\u001B[38;5;28;43mself\u001B[39;49m\u001B[38;5;241;43m.\u001B[39;49m\u001B[43mpandas_categorical\u001B[49m\n\u001B[0;32m   1121\u001B[0m \u001B[43m    \u001B[49m\u001B[43m)\u001B[49m[\u001B[38;5;241m0\u001B[39m]\n\u001B[0;32m   1123\u001B[0m predict_type \u001B[38;5;241m=\u001B[39m _C_API_PREDICT_NORMAL\n\u001B[0;32m   1124\u001B[0m \u001B[38;5;28;01mif\u001B[39;00m raw_score:\n",
      "File \u001B[1;32m~\\Downloads\\relbenchmain\\venv\\lib\\site-packages\\lightgbm\\basic.py:825\u001B[0m, in \u001B[0;36m_data_from_pandas\u001B[1;34m(data, feature_name, categorical_feature, pandas_categorical)\u001B[0m\n\u001B[0;32m    821\u001B[0m df_dtypes\u001B[38;5;241m.\u001B[39mappend(np\u001B[38;5;241m.\u001B[39mfloat32)\n\u001B[0;32m    822\u001B[0m target_dtype \u001B[38;5;241m=\u001B[39m np\u001B[38;5;241m.\u001B[39mresult_type(\u001B[38;5;241m*\u001B[39mdf_dtypes)\n\u001B[0;32m    824\u001B[0m \u001B[38;5;28;01mreturn\u001B[39;00m (\n\u001B[1;32m--> 825\u001B[0m     \u001B[43m_pandas_to_numpy\u001B[49m\u001B[43m(\u001B[49m\u001B[43mdata\u001B[49m\u001B[43m,\u001B[49m\u001B[43m \u001B[49m\u001B[43mtarget_dtype\u001B[49m\u001B[38;5;241;43m=\u001B[39;49m\u001B[43mtarget_dtype\u001B[49m\u001B[43m)\u001B[49m,\n\u001B[0;32m    826\u001B[0m     feature_name,\n\u001B[0;32m    827\u001B[0m     categorical_feature,\n\u001B[0;32m    828\u001B[0m     pandas_categorical\n\u001B[0;32m    829\u001B[0m )\n",
      "File \u001B[1;32m~\\Downloads\\relbenchmain\\venv\\lib\\site-packages\\lightgbm\\basic.py:771\u001B[0m, in \u001B[0;36m_pandas_to_numpy\u001B[1;34m(data, target_dtype)\u001B[0m\n\u001B[0;32m    767\u001B[0m \u001B[38;5;28;01mdef\u001B[39;00m \u001B[38;5;21m_pandas_to_numpy\u001B[39m(\n\u001B[0;32m    768\u001B[0m     data: pd_DataFrame,\n\u001B[0;32m    769\u001B[0m     target_dtype: \u001B[38;5;124m\"\u001B[39m\u001B[38;5;124mnp.typing.DTypeLike\u001B[39m\u001B[38;5;124m\"\u001B[39m\n\u001B[0;32m    770\u001B[0m ) \u001B[38;5;241m-\u001B[39m\u001B[38;5;241m>\u001B[39m np\u001B[38;5;241m.\u001B[39mndarray:\n\u001B[1;32m--> 771\u001B[0m     \u001B[43m_check_for_bad_pandas_dtypes\u001B[49m\u001B[43m(\u001B[49m\u001B[43mdata\u001B[49m\u001B[38;5;241;43m.\u001B[39;49m\u001B[43mdtypes\u001B[49m\u001B[43m)\u001B[49m\n\u001B[0;32m    772\u001B[0m     \u001B[38;5;28;01mtry\u001B[39;00m:\n\u001B[0;32m    773\u001B[0m         \u001B[38;5;66;03m# most common case (no nullable dtypes)\u001B[39;00m\n\u001B[0;32m    774\u001B[0m         \u001B[38;5;28;01mreturn\u001B[39;00m data\u001B[38;5;241m.\u001B[39mto_numpy(dtype\u001B[38;5;241m=\u001B[39mtarget_dtype, copy\u001B[38;5;241m=\u001B[39m\u001B[38;5;28;01mFalse\u001B[39;00m)\n",
      "File \u001B[1;32m~\\Downloads\\relbenchmain\\venv\\lib\\site-packages\\lightgbm\\basic.py:763\u001B[0m, in \u001B[0;36m_check_for_bad_pandas_dtypes\u001B[1;34m(pandas_dtypes_series)\u001B[0m\n\u001B[0;32m    757\u001B[0m bad_pandas_dtypes \u001B[38;5;241m=\u001B[39m [\n\u001B[0;32m    758\u001B[0m     \u001B[38;5;124mf\u001B[39m\u001B[38;5;124m'\u001B[39m\u001B[38;5;132;01m{\u001B[39;00mcolumn_name\u001B[38;5;132;01m}\u001B[39;00m\u001B[38;5;124m: \u001B[39m\u001B[38;5;132;01m{\u001B[39;00mpandas_dtype\u001B[38;5;132;01m}\u001B[39;00m\u001B[38;5;124m'\u001B[39m\n\u001B[0;32m    759\u001B[0m     \u001B[38;5;28;01mfor\u001B[39;00m column_name, pandas_dtype \u001B[38;5;129;01min\u001B[39;00m pandas_dtypes_series\u001B[38;5;241m.\u001B[39mitems()\n\u001B[0;32m    760\u001B[0m     \u001B[38;5;28;01mif\u001B[39;00m \u001B[38;5;129;01mnot\u001B[39;00m _is_allowed_numpy_dtype(pandas_dtype\u001B[38;5;241m.\u001B[39mtype)\n\u001B[0;32m    761\u001B[0m ]\n\u001B[0;32m    762\u001B[0m \u001B[38;5;28;01mif\u001B[39;00m bad_pandas_dtypes:\n\u001B[1;32m--> 763\u001B[0m     \u001B[38;5;28;01mraise\u001B[39;00m \u001B[38;5;167;01mValueError\u001B[39;00m(\u001B[38;5;124m'\u001B[39m\u001B[38;5;124mpandas dtypes must be int, float or bool.\u001B[39m\u001B[38;5;130;01m\\n\u001B[39;00m\u001B[38;5;124m'\u001B[39m\n\u001B[0;32m    764\u001B[0m                      \u001B[38;5;124mf\u001B[39m\u001B[38;5;124m'\u001B[39m\u001B[38;5;124mFields with bad pandas dtypes: \u001B[39m\u001B[38;5;132;01m{\u001B[39;00m\u001B[38;5;124m\"\u001B[39m\u001B[38;5;124m, \u001B[39m\u001B[38;5;124m\"\u001B[39m\u001B[38;5;241m.\u001B[39mjoin(bad_pandas_dtypes)\u001B[38;5;132;01m}\u001B[39;00m\u001B[38;5;124m'\u001B[39m)\n",
      "\u001B[1;31mValueError\u001B[0m: pandas dtypes must be int, float or bool.\nFields with bad pandas dtypes: timestamp: datetime64[ns], DisplayName: object, Location: object, WebsiteUrl: object, AboutMe: object, CreationDate: datetime64[ns]"
     ]
    }
   ],
   "source": [
    "# Calculate SHAP values. This might take some time for large datasets.\n",
    "shap_values = explainer.shap_values(dfs['train'].sample(n=100))\n"
   ],
   "metadata": {
    "collapsed": false,
    "ExecuteTime": {
     "end_time": "2024-03-13T20:34:05.941207Z",
     "start_time": "2024-03-13T20:34:05.427501Z"
    }
   },
   "id": "4fb0b3099642849d",
   "execution_count": 41
  },
  {
   "cell_type": "code",
   "outputs": [],
   "source": [
    "# SHAP Summary Plot\n",
    "shap.summary_plot(shap_values, tf_train)"
   ],
   "metadata": {
    "collapsed": false
   },
   "id": "4d6cfe3e60ecfff1"
  },
  {
   "cell_type": "code",
   "outputs": [],
   "source": [],
   "metadata": {
    "collapsed": false
   },
   "id": "672bbf5bea6affb"
  },
  {
   "cell_type": "code",
   "outputs": [],
   "source": [],
   "metadata": {
    "collapsed": false
   },
   "id": "d7a279c85beaced0"
  }
 ],
 "metadata": {
  "kernelspec": {
   "display_name": "Python 3",
   "language": "python",
   "name": "python3"
  },
  "language_info": {
   "codemirror_mode": {
    "name": "ipython",
    "version": 2
   },
   "file_extension": ".py",
   "mimetype": "text/x-python",
   "name": "python",
   "nbconvert_exporter": "python",
   "pygments_lexer": "ipython2",
   "version": "2.7.6"
  }
 },
 "nbformat": 4,
 "nbformat_minor": 5
}
