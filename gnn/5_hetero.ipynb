{
 "cells": [
  {
   "cell_type": "code",
   "execution_count": null,
   "metadata": {
    "collapsed": false
   },
   "outputs": [],
   "source": [
    "%matplotlib inline"
   ]
  },
  {
   "cell_type": "markdown",
   "metadata": {},
   "source": [
    "\n",
    ".. currentmodule:: dgl\n",
    "\n",
    "Working with Heterogeneous Graphs\n",
    "=================================\n",
    "\n",
    "**Author**: Quan Gan, `Minjie Wang <https://jermainewang.github.io/>`_, Mufei Li,\n",
    "George Karypis, Zheng Zhang\n",
    "\n",
    "In this tutorial, you learn about:\n",
    "\n",
    "* Examples of heterogenous graph data and typical applications.\n",
    "\n",
    "* Creating and manipulating a heterogenous graph in DGL.\n",
    "\n",
    "* Implementing `Relational-GCN <https://arxiv.org/abs/1703.06103>`_, a popular GNN model,\n",
    "  for heterogenous graph input.\n",
    "\n",
    "* Training a model to solve a node classification task.\n",
    "\n",
    "Heterogeneous graphs, or *heterographs* for short, are graphs that contain\n",
    "different types of nodes and edges. The different types of nodes and edges tend\n",
    "to have different types of attributes that are designed to capture the\n",
    "characteristics of each node and edge type. Within the context of\n",
    "graph neural networks, depending on their complexity, certain node and edge types\n",
    "might need to be modeled with representations that have a different number of dimensions.\n",
    "\n",
    "DGL supports graph neural network computations on such heterogeneous graphs, by\n",
    "using the heterograph class and its associated API.\n"
   ]
  },
  {
   "cell_type": "markdown",
   "metadata": {},
   "source": [
    "Examples of heterographs\n",
    "-----------------------\n",
    "Many graph datasets represent relationships among various types of entities.\n",
    "This section provides an overview for several graph use-cases that show such relationships \n",
    "and can have their data represented as heterographs.\n",
    "\n",
    "Citation graph \n",
    "~~~~~~~~~~~~~~~\n",
    "The Association for Computing Machinery publishes an `ACM dataset <https://aminer.org/citation>`_ that contains two\n",
    "million papers, their authors, publication venues, and the other papers\n",
    "that were cited. This information can be represented as a heterogeneous graph.\n",
    "\n",
    "The following diagram shows several entities in the ACM dataset and the relationships among them \n",
    "(taken from `Shi et al., 2015 <https://arxiv.org/pdf/1511.04854.pdf>`_).\n",
    "\n",
    ".. figure:: https://data.dgl.ai/tutorial/hetero/acm-example.png# \n",
    "\n",
    "This graph has three types of entities that correspond to papers, authors, and publication venues.\n",
    "It also contains three types of edges that connect the following:\n",
    "\n",
    "* Authors with papers corresponding to *written-by* relationships\n",
    "\n",
    "* Papers with publication venues corresponding to *published-in* relationships\n",
    "\n",
    "* Papers with other papers corresponding to *cited-by* relationships\n",
    "\n",
    "\n",
    "Recommender systems \n",
    "~~~~~~~~~~~~~~~~~~~~ \n",
    "The datasets used in recommender systems often contain\n",
    "interactions between users and items. For example, the data could include the\n",
    "ratings that users have provided to movies. Such interactions can be modeled\n",
    "as heterographs.\n",
    "\n",
    "The nodes in these heterographs will have two types, *users* and *movies*. The edges\n",
    "will correspond to the user-movie interactions. Furthermore, if an interaction is\n",
    "marked with a rating, then each rating value could correspond to a different edge type.\n",
    "The following diagram shows an example of user-item interactions as a heterograph.\n",
    "\n",
    ".. figure:: https://data.dgl.ai/tutorial/hetero/recsys-example.png\n",
    "\n",
    "\n",
    "Knowledge graph \n",
    "~~~~~~~~~~~~~~~~\n",
    "Knowledge graphs are inherently heterogenous. For example, in\n",
    "Wikidata, Barack Obama (item Q76) is an instance of a human, which could be viewed as\n",
    "the entity class, whose spouse (item P26) is Michelle Obama (item Q13133) and\n",
    "occupation (item P106) is politician (item Q82955). The relationships are shown in the following.\n",
    "diagram.\n",
    "\n",
    ".. figure:: https://data.dgl.ai/tutorial/hetero/kg-example.png\n",
    "\n",
    "\n"
   ]
  },
  {
   "cell_type": "markdown",
   "metadata": {},
   "source": [
    "Creating a heterograph in DGL\n",
    "-----------------------------\n",
    "You can create a heterograph in DGL using the :func:`dgl.heterograph` API.\n",
    "The argument to :func:`dgl.heterograph` is a dictionary. The keys are tuples\n",
    "in the form of ``(srctype, edgetype, dsttype)`` specifying the relation name\n",
    "and the two entity types it connects. Such tuples are called *canonical edge types*\n",
    "The values are data to initialize the graph structures, that is, which\n",
    "nodes the edges actually connect.\n",
    "\n",
    "For instance, the following code creates the user-item interactions heterograph shown earlier.\n",
    "\n"
   ]
  },
  {
   "cell_type": "code",
   "execution_count": null,
   "metadata": {
    "collapsed": false
   },
   "outputs": [],
   "source": [
    "# Each value of the dictionary is a pair of source and destination arrays.\n",
    "# Nodes are integer IDs starting from zero. Nodes IDs of different types have\n",
    "# separate countings.\n",
    "import dgl\n",
    "import numpy as np\n",
    "\n",
    "ratings = dgl.heterograph(\n",
    "    {('user', '+1', 'movie') : (np.array([0, 0, 1]), np.array([0, 1, 0])),\n",
    "     ('user', '-1', 'movie') : (np.array([2]), np.array([1]))})"
   ]
  },
  {
   "cell_type": "markdown",
   "metadata": {},
   "source": [
    "Manipulating heterograph\n",
    "------------------------\n",
    "You can create a more realistic heterograph using the ACM dataset. To do this, first \n",
    "download the dataset as follows:\n",
    "\n"
   ]
  },
  {
   "cell_type": "code",
   "execution_count": null,
   "metadata": {
    "collapsed": false
   },
   "outputs": [],
   "source": [
    "import scipy.io\n",
    "import urllib.request\n",
    "\n",
    "data_url = 'https://data.dgl.ai/dataset/ACM.mat'\n",
    "data_file_path = '/tmp/ACM.mat'\n",
    "\n",
    "urllib.request.urlretrieve(data_url, data_file_path)\n",
    "data = scipy.io.loadmat(data_file_path)\n",
    "print(list(data.keys()))"
   ]
  },
  {
   "cell_type": "markdown",
   "metadata": {},
   "source": [
    "The dataset stores node information by their types: ``P`` for paper, ``A``\n",
    "for author, ``C`` for conference, ``L`` for subject code, and so on. The relationships\n",
    "are stored as SciPy sparse matrix under key ``XvsY``, where ``X`` and ``Y``\n",
    "could be any of the node type code.\n",
    "\n",
    "The following code prints out some statistics about the paper-author relationships.\n",
    "\n"
   ]
  },
  {
   "cell_type": "code",
   "execution_count": null,
   "metadata": {
    "collapsed": false
   },
   "outputs": [],
   "source": [
    "print(type(data['PvsA']))\n",
    "print('#Papers:', data['PvsA'].shape[0])\n",
    "print('#Authors:', data['PvsA'].shape[1])\n",
    "print('#Links:', data['PvsA'].nnz)"
   ]
  },
  {
   "cell_type": "markdown",
   "metadata": {},
   "source": [
    "Converting this SciPy matrix to a heterograph in DGL is straightforward.\n",
    "\n"
   ]
  },
  {
   "cell_type": "code",
   "execution_count": null,
   "metadata": {
    "collapsed": false
   },
   "outputs": [],
   "source": [
    "pa_g = dgl.heterograph({('paper', 'written-by', 'author') : data['PvsA'].nonzero()})"
   ]
  },
  {
   "cell_type": "markdown",
   "metadata": {},
   "source": [
    "You can easily print out the type names and other structural information.\n",
    "\n"
   ]
  },
  {
   "cell_type": "code",
   "execution_count": null,
   "metadata": {
    "collapsed": false
   },
   "outputs": [],
   "source": [
    "print('Node types:', pa_g.ntypes)\n",
    "print('Edge types:', pa_g.etypes)\n",
    "print('Canonical edge types:', pa_g.canonical_etypes)\n",
    "\n",
    "# Nodes and edges are assigned integer IDs starting from zero and each type has its own counting.\n",
    "# To distinguish the nodes and edges of different types, specify the type name as the argument.\n",
    "print(pa_g.number_of_nodes('paper'))\n",
    "# Canonical edge type name can be shortened to only one edge type name if it is\n",
    "# uniquely distinguishable.\n",
    "print(pa_g.number_of_edges(('paper', 'written-by', 'author')))\n",
    "print(pa_g.number_of_edges('written-by'))\n",
    "print(pa_g.successors(1, etype='written-by'))  # get the authors that write paper #1\n",
    "\n",
    "# Type name argument could be omitted whenever the behavior is unambiguous.\n",
    "print(pa_g.number_of_edges())  # Only one edge type, the edge type argument could be omitted"
   ]
  },
  {
   "cell_type": "markdown",
   "metadata": {},
   "source": [
    "A homogeneous graph is just a special case of a heterograph with only one type\n",
    "of node and edge.\n",
    "\n"
   ]
  },
  {
   "cell_type": "code",
   "execution_count": null,
   "metadata": {
    "collapsed": false
   },
   "outputs": [],
   "source": [
    "# Paper-citing-paper graph is a homogeneous graph\n",
    "pp_g = dgl.heterograph({('paper', 'citing', 'paper') : data['PvsP'].nonzero()})\n",
    "# equivalent (shorter) API for creating homogeneous graph\n",
    "pp_g = dgl.from_scipy(data['PvsP'])\n",
    "\n",
    "# All the ntype and etype arguments could be omitted because the behavior is unambiguous.\n",
    "print(pp_g.number_of_nodes())\n",
    "print(pp_g.number_of_edges())\n",
    "print(pp_g.successors(3))"
   ]
  },
  {
   "cell_type": "markdown",
   "metadata": {},
   "source": [
    "Create a subset of the ACM graph using the paper-author, paper-paper, \n",
    "and paper-subject relationships.  Meanwhile, also add the reverse\n",
    "relationship to prepare for the later sections.\n",
    "\n"
   ]
  },
  {
   "cell_type": "code",
   "execution_count": null,
   "metadata": {
    "collapsed": false
   },
   "outputs": [],
   "source": [
    "G = dgl.heterograph({\n",
    "        ('paper', 'written-by', 'author') : data['PvsA'].nonzero(),\n",
    "        ('author', 'writing', 'paper') : data['PvsA'].transpose().nonzero(),\n",
    "        ('paper', 'citing', 'paper') : data['PvsP'].nonzero(),\n",
    "        ('paper', 'cited', 'paper') : data['PvsP'].transpose().nonzero(),\n",
    "        ('paper', 'is-about', 'subject') : data['PvsL'].nonzero(),\n",
    "        ('subject', 'has', 'paper') : data['PvsL'].transpose().nonzero(),\n",
    "    })\n",
    "\n",
    "print(G)"
   ]
  },
  {
   "cell_type": "markdown",
   "metadata": {},
   "source": [
    "**Metagraph** (or network schema) is a useful summary of a heterograph.\n",
    "Serving as a template for a heterograph, it tells how many types of objects\n",
    "exist in the network and where the possible links exist.\n",
    "\n",
    "DGL provides easy access to the metagraph, which could be visualized using\n",
    "external tools.\n",
    "\n"
   ]
  },
  {
   "cell_type": "code",
   "execution_count": null,
   "metadata": {
    "collapsed": false
   },
   "outputs": [],
   "source": [
    "# Draw the metagraph using graphviz.\n",
    "import pygraphviz as pgv\n",
    "def plot_graph(nxg):\n",
    "    ag = pgv.AGraph(strict=False, directed=True)\n",
    "    for u, v, k in nxg.edges(keys=True):\n",
    "        ag.add_edge(u, v, label=k)\n",
    "    ag.layout('dot')\n",
    "    ag.draw('graph.png')\n",
    "\n",
    "plot_graph(G.metagraph())"
   ]
  },
  {
   "cell_type": "markdown",
   "metadata": {},
   "source": [
    "Learning tasks associated with heterographs\n",
    "-------------------------------------------\n",
    "Some of the typical learning tasks that involve heterographs include:\n",
    "\n",
    "* *Node classification and regression* to predict the class of each node or\n",
    "  estimate a value associated with it.\n",
    "\n",
    "* *Link prediction* to predict if there is an edge of a certain\n",
    "  type between a pair of nodes, or predict which other nodes a particular\n",
    "  node is connected with (and optionally the edge types of such connections).\n",
    "\n",
    "* *Graph classification/regression* to assign an entire\n",
    "  heterograph into one of the target classes or to estimate a numerical\n",
    "  value associated with it.\n",
    "\n",
    "In this tutorial, we designed a simple example for the first task.\n",
    "\n",
    "A semi-supervised node classification example\n",
    "~~~~~~~~~~~~~~~~~~~~~~~~~~~~~~~~~~~~~~~~~~~~~\n",
    "Our goal is to predict the publishing conference of a paper using the ACM\n",
    "academic graph we just created. To further simplify the task, we only focus\n",
    "on papers published in three conferences: *KDD*, *ICML*, and *VLDB*. All\n",
    "the other papers are not labeled, making it a semi-supervised setting.\n",
    "\n",
    "The following code extracts those papers from the raw dataset and prepares \n",
    "the training, validation, testing split.\n",
    "\n"
   ]
  },
  {
   "cell_type": "code",
   "execution_count": null,
   "metadata": {
    "collapsed": false
   },
   "outputs": [],
   "source": [
    "import numpy as np\n",
    "import torch\n",
    "import torch.nn as nn\n",
    "import torch.nn.functional as F\n",
    "\n",
    "pvc = data['PvsC'].tocsr()\n",
    "# find all papers published in KDD, ICML, VLDB\n",
    "c_selected = [0, 11, 13]  # KDD, ICML, VLDB\n",
    "p_selected = pvc[:, c_selected].tocoo()\n",
    "# generate labels\n",
    "labels = pvc.indices\n",
    "labels[labels == 11] = 1\n",
    "labels[labels == 13] = 2\n",
    "labels = torch.tensor(labels).long()\n",
    "\n",
    "# generate train/val/test split\n",
    "pid = p_selected.row\n",
    "shuffle = np.random.permutation(pid)\n",
    "train_idx = torch.tensor(shuffle[0:800]).long()\n",
    "val_idx = torch.tensor(shuffle[800:900]).long()\n",
    "test_idx = torch.tensor(shuffle[900:]).long()"
   ]
  },
  {
   "cell_type": "markdown",
   "metadata": {},
   "source": [
    "Relational-GCN on heterograph\n",
    "~~~~~~~~~~~~~~~~~~~~~~~~~~~~~\n",
    "We use `Relational-GCN <https://arxiv.org/abs/1703.06103>`_ to learn the\n",
    "representation of nodes in the graph. Its message-passing equation is as\n",
    "follows:\n",
    "\n",
    "\\begin{align}h_i^{(l+1)} = \\sigma\\left(\\sum_{r\\in \\mathcal{R}}\n",
    "   \\sum_{j\\in\\mathcal{N}_r(i)}W_r^{(l)}h_j^{(l)}\\right)\\end{align}\n",
    "\n",
    "Breaking down the equation, you see that there are two parts in the\n",
    "computation.\n",
    "\n",
    "(i) Message computation and aggregation within each relation $r$\n",
    "\n",
    "(ii) Reduction that merges the results from multiple relationships\n",
    "\n",
    "Following this intuition, perform message passing on a heterograph in\n",
    "two steps.\n",
    "\n",
    "(i) Per-edge-type message passing\n",
    "\n",
    "(ii) Type wise reduction\n",
    "\n"
   ]
  },
  {
   "cell_type": "code",
   "execution_count": null,
   "metadata": {
    "collapsed": false
   },
   "outputs": [],
   "source": [
    "import dgl.function as fn\n",
    "\n",
    "class HeteroRGCNLayer(nn.Module):\n",
    "    def __init__(self, in_size, out_size, etypes):\n",
    "        super(HeteroRGCNLayer, self).__init__()\n",
    "        # W_r for each relation\n",
    "        self.weight = nn.ModuleDict({\n",
    "                name : nn.Linear(in_size, out_size) for name in etypes\n",
    "            })\n",
    "\n",
    "    def forward(self, G, feat_dict):\n",
    "        # The input is a dictionary of node features for each type\n",
    "        funcs = {}\n",
    "        for srctype, etype, dsttype in G.canonical_etypes:\n",
    "            # Compute W_r * h\n",
    "            Wh = self.weight[etype](feat_dict[srctype])\n",
    "            # Save it in graph for message passing\n",
    "            G.nodes[srctype].data['Wh_%s' % etype] = Wh\n",
    "            # Specify per-relation message passing functions: (message_func, reduce_func).\n",
    "            # Note that the results are saved to the same destination feature 'h', which\n",
    "            # hints the type wise reducer for aggregation.\n",
    "            funcs[etype] = (fn.copy_u('Wh_%s' % etype, 'm'), fn.mean('m', 'h'))\n",
    "        # Trigger message passing of multiple types.\n",
    "        # The first argument is the message passing functions for each relation.\n",
    "        # The second one is the type wise reducer, could be \"sum\", \"max\",\n",
    "        # \"min\", \"mean\", \"stack\"\n",
    "        G.multi_update_all(funcs, 'sum')\n",
    "        # return the updated node feature dictionary\n",
    "        return {ntype : G.nodes[ntype].data['h'] for ntype in G.ntypes}"
   ]
  },
  {
   "cell_type": "markdown",
   "metadata": {},
   "source": [
    "Create a simple GNN by stacking two ``HeteroRGCNLayer``. Since the\n",
    "nodes do not have input features, make their embeddings trainable.\n",
    "\n"
   ]
  },
  {
   "cell_type": "code",
   "execution_count": null,
   "metadata": {
    "collapsed": false
   },
   "outputs": [],
   "source": [
    "class HeteroRGCN(nn.Module):\n",
    "    def __init__(self, G, in_size, hidden_size, out_size):\n",
    "        super(HeteroRGCN, self).__init__()\n",
    "        # Use trainable node embeddings as featureless inputs.\n",
    "        embed_dict = {ntype : nn.Parameter(torch.Tensor(G.number_of_nodes(ntype), in_size))\n",
    "                      for ntype in G.ntypes}\n",
    "        for key, embed in embed_dict.items():\n",
    "            nn.init.xavier_uniform_(embed)\n",
    "        self.embed = nn.ParameterDict(embed_dict)\n",
    "        # create layers\n",
    "        self.layer1 = HeteroRGCNLayer(in_size, hidden_size, G.etypes)\n",
    "        self.layer2 = HeteroRGCNLayer(hidden_size, out_size, G.etypes)\n",
    "\n",
    "    def forward(self, G):\n",
    "        h_dict = self.layer1(G, self.embed)\n",
    "        h_dict = {k : F.leaky_relu(h) for k, h in h_dict.items()}\n",
    "        h_dict = self.layer2(G, h_dict)\n",
    "        # get paper logits\n",
    "        return h_dict['paper']"
   ]
  },
  {
   "cell_type": "markdown",
   "metadata": {},
   "source": [
    "Train and evaluate\n",
    "~~~~~~~~~~~~~~~~~~\n",
    "Train and evaluate this network.\n",
    "\n"
   ]
  },
  {
   "cell_type": "code",
   "execution_count": null,
   "metadata": {
    "collapsed": false
   },
   "outputs": [],
   "source": [
    "# Create the model. The output has three logits for three classes.\n",
    "model = HeteroRGCN(G, 10, 10, 3)\n",
    "\n",
    "opt = torch.optim.Adam(model.parameters(), lr=0.01, weight_decay=5e-4)\n",
    "\n",
    "best_val_acc = 0\n",
    "best_test_acc = 0\n",
    "\n",
    "for epoch in range(100):\n",
    "    logits = model(G)\n",
    "    # The loss is computed only for labeled nodes.\n",
    "    loss = F.cross_entropy(logits[train_idx], labels[train_idx])\n",
    "\n",
    "    pred = logits.argmax(1)\n",
    "    train_acc = (pred[train_idx] == labels[train_idx]).float().mean()\n",
    "    val_acc = (pred[val_idx] == labels[val_idx]).float().mean()\n",
    "    test_acc = (pred[test_idx] == labels[test_idx]).float().mean()\n",
    "\n",
    "    if best_val_acc < val_acc:\n",
    "        best_val_acc = val_acc\n",
    "        best_test_acc = test_acc\n",
    "\n",
    "    opt.zero_grad()\n",
    "    loss.backward()\n",
    "    opt.step()\n",
    "\n",
    "    if epoch % 5 == 0:\n",
    "        print('Loss %.4f, Train Acc %.4f, Val Acc %.4f (Best %.4f), Test Acc %.4f (Best %.4f)' % (\n",
    "            loss.item(),\n",
    "            train_acc.item(),\n",
    "            val_acc.item(),\n",
    "            best_val_acc.item(),\n",
    "            test_acc.item(),\n",
    "            best_test_acc.item(),\n",
    "        ))"
   ]
  },
  {
   "cell_type": "markdown",
   "metadata": {},
   "source": [
    "What's next?\n",
    "------------\n",
    "* Check out our full implementation in PyTorch\n",
    "  `here <https://github.com/dmlc/dgl/tree/master/examples/pytorch/rgcn-hetero>`_.\n",
    "\n",
    "* We also provide the following model examples:\n",
    "\n",
    "  * `Graph Convolutional Matrix Completion <https://arxiv.org/abs/1706.02263>_`,\n",
    "    which we implement in MXNet\n",
    "    `here <https://github.com/dmlc/dgl/tree/v0.4.0/examples/mxnet/gcmc>`_.\n",
    "\n",
    "  * `Heterogeneous Graph Attention Network <https://arxiv.org/abs/1903.07293>`_\n",
    "    requires transforming a heterograph into a homogeneous graph according to\n",
    "    a given metapath (i.e. a path template consisting of edge types).  We\n",
    "    provide :func:`dgl.transform.metapath_reachable_graph` to do this.  See full\n",
    "    implementation\n",
    "    `here <https://github.com/dmlc/dgl/tree/master/examples/pytorch/han>`_.\n",
    "\n",
    "  * `Metapath2vec <https://dl.acm.org/citation.cfm?id=3098036>`_ requires\n",
    "    generating random walk paths according to a given metapath.  Please\n",
    "    refer to the full metapath2vec implementation\n",
    "    `here <https://github.com/dmlc/dgl/tree/master/examples/pytorch/metapath2vec>`_.\n",
    "\n",
    "* :doc:`Full heterograph API reference <../../api/python/heterograph>`.\n",
    "\n"
   ]
  }
 ],
 "metadata": {
  "kernelspec": {
   "display_name": "Python 3",
   "language": "python",
   "name": "python3"
  },
  "language_info": {
   "codemirror_mode": {
    "name": "ipython",
    "version": 3
   },
   "file_extension": ".py",
   "mimetype": "text/x-python",
   "name": "python",
   "nbconvert_exporter": "python",
   "pygments_lexer": "ipython3",
   "version": "3.7.3"
  }
 },
 "nbformat": 4,
 "nbformat_minor": 0
}
